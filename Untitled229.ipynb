{
  "nbformat": 4,
  "nbformat_minor": 0,
  "metadata": {
    "colab": {
      "name": "Untitled229.ipynb",
      "provenance": [],
      "authorship_tag": "ABX9TyP2d92iwMg6jw53S1dv71zU",
      "include_colab_link": true
    },
    "kernelspec": {
      "name": "python3",
      "display_name": "Python 3"
    },
    "language_info": {
      "name": "python"
    }
  },
  "cells": [
    {
      "cell_type": "markdown",
      "metadata": {
        "id": "view-in-github",
        "colab_type": "text"
      },
      "source": [
        "<a href=\"https://colab.research.google.com/github/lephuocdat2000/Tu-hu/blob/main/Untitled229.ipynb\" target=\"_parent\"><img src=\"https://colab.research.google.com/assets/colab-badge.svg\" alt=\"Open In Colab\"/></a>"
      ]
    },
    {
      "cell_type": "code",
      "metadata": {
        "id": "buk3oVMgddeW"
      },
      "source": [
        "import numpy as np\n",
        "import os\n",
        "import tensorflow as tf\n",
        "from tensorflow import keras \n",
        "from tensorflow.keras import layers"
      ],
      "execution_count": null,
      "outputs": []
    },
    {
      "cell_type": "markdown",
      "metadata": {
        "id": "bpdkEO4Od8DG"
      },
      "source": [
        "Cấu trúc file: \n",
        "- currentDir\n",
        "   + wordsList.npy\n",
        "   + weights.0020.hdf5'"
      ]
    },
    {
      "cell_type": "code",
      "metadata": {
        "id": "9fXytaU4d6H9"
      },
      "source": [
        "currentDir = '/content/drive/MyDrive/Deep Learning/Assignment3-SentimentAnalysis-with-LSTM'\n",
        "wordsList = np.load(os.path.join(currentDir, 'wordsList.npy'))"
      ],
      "execution_count": null,
      "outputs": []
    },
    {
      "cell_type": "markdown",
      "metadata": {
        "id": "3qMafPoleQdc"
      },
      "source": [
        "Load pretrained model"
      ]
    },
    {
      "cell_type": "code",
      "metadata": {
        "id": "n5UozafreP2J"
      },
      "source": [
        "model = keras.Sequential([\n",
        "        layers.Embedding(input_dim=19899,output_dim=numDimensions,weights=[wordVectors],input_length=maxSeqLength,trainable=False),\n",
        "        layers.LSTM(lstmUnits,return_sequences=True),\n",
        "        layers.Dropout(0.2),\n",
        "        layers.LSTM(lstmUnits),\n",
        "        layers.Flatten(),\n",
        "        layers.Dense(2,activation='softmax')]\n",
        " )\n",
        "\n",
        "weight_path = 'weights.0020.hdf5'\n",
        "model.load_weights(weight_path)"
      ],
      "execution_count": null,
      "outputs": []
    },
    {
      "cell_type": "markdown",
      "metadata": {
        "id": "4amd1m-4fIu1"
      },
      "source": [
        "Predict"
      ]
    },
    {
      "cell_type": "code",
      "metadata": {
        "id": "DNW3xA7VfGpz"
      },
      "source": [
        "import re\n",
        "strip_special_chars = re.compile(\"[^\\w0-9 ]+\")\n",
        "\n",
        "def cleanSentences(string):\n",
        "    string = string.lower().replace(\"<br />\", \" \")\n",
        "    return re.sub(strip_special_chars, \"\", string.lower())\n",
        "\n",
        "def Predict_Sentence(sentence,model):\n",
        "   cleaned = cleanSentences(sentence)\n",
        "   words = cleaned.split()\n",
        "   word_vec = np.zeros((1,len(words)))\n",
        "   for i,word in enumerate(words):\n",
        "      word_idx = wordsList.index(word)\n",
        "      word_vec[0][i] = word_idx\n",
        "   result = model.predict(word_vec)\n",
        "   if np.argmax(result[0])==1: print('Positive')\n",
        "   else: print('Negative')"
      ],
      "execution_count": null,
      "outputs": []
    },
    {
      "cell_type": "markdown",
      "metadata": {
        "id": "WoUcrR8ifPpD"
      },
      "source": [
        "test hàm predict"
      ]
    },
    {
      "cell_type": "code",
      "metadata": {
        "id": "1vkrRagefNWN"
      },
      "source": [
        "Predict_Sentence('Món ăn gì mà dở tệ',model)"
      ],
      "execution_count": null,
      "outputs": []
    }
  ]
}