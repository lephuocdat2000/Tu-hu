{
  "nbformat": 4,
  "nbformat_minor": 0,
  "metadata": {
    "colab": {
      "name": "Untitled229.ipynb",
      "provenance": [],
      "authorship_tag": "ABX9TyN+O2hWhPdD2lOTtVONtj6i",
      "include_colab_link": true
    },
    "kernelspec": {
      "name": "python3",
      "display_name": "Python 3"
    },
    "language_info": {
      "name": "python"
    }
  },
  "cells": [
    {
      "cell_type": "markdown",
      "metadata": {
        "id": "view-in-github",
        "colab_type": "text"
      },
      "source": [
        "<a href=\"https://colab.research.google.com/github/lephuocdat2000/Tu-hu/blob/main/Untitled229.ipynb\" target=\"_parent\"><img src=\"https://colab.research.google.com/assets/colab-badge.svg\" alt=\"Open In Colab\"/></a>"
      ]
    },
    {
      "cell_type": "code",
      "metadata": {
        "id": "Svv97zE4n46Y",
        "colab": {
          "base_uri": "https://localhost:8080/"
        },
        "outputId": "2728146d-e4bd-4763-ea37-fe81aa21b0b7"
      },
      "source": [
        "from google.colab import drive\n",
        "drive.mount('/content/drive')"
      ],
      "execution_count": 30,
      "outputs": [
        {
          "output_type": "stream",
          "name": "stdout",
          "text": [
            "Drive already mounted at /content/drive; to attempt to forcibly remount, call drive.mount(\"/content/drive\", force_remount=True).\n"
          ]
        }
      ]
    },
    {
      "cell_type": "code",
      "metadata": {
        "id": "buk3oVMgddeW"
      },
      "source": [
        "import numpy as np\n",
        "import os\n",
        "import tensorflow as tf\n",
        "from tensorflow import keras \n",
        "from tensorflow.keras import layers"
      ],
      "execution_count": 31,
      "outputs": []
    },
    {
      "cell_type": "code",
      "metadata": {
        "id": "AcgRjYjksle1"
      },
      "source": [
        "negative = '/content/drive/MyDrive/Deep Learning/Assignment3-SentimentAnalysis-with-LSTM/negativeReviews'\n",
        "positive = '/content/drive/MyDrive/Deep Learning/Assignment3-SentimentAnalysis-with-LSTM/positiveReviews'\n"
      ],
      "execution_count": null,
      "outputs": []
    },
    {
      "cell_type": "code",
      "metadata": {
        "id": "rr3bL5Vmt4Ym",
        "colab": {
          "base_uri": "https://localhost:8080/"
        },
        "outputId": "f7d683de-fe0c-4791-8af9-e797b7244936"
      },
      "source": [
        "print('negative:',len(os.listdir(negative)))\n",
        "print('positive:',len(os.listdir(positive)))\n"
      ],
      "execution_count": null,
      "outputs": [
        {
          "output_type": "stream",
          "name": "stdout",
          "text": [
            "negative: 15000\n",
            "positive: 15000\n"
          ]
        }
      ]
    },
    {
      "cell_type": "markdown",
      "metadata": {
        "id": "bpdkEO4Od8DG"
      },
      "source": [
        "Cấu trúc file: \n",
        "- currentDir\n",
        "   + wordsList.npy\n",
        "   + weights.0020.hdf5'\n",
        "   + wordVectors.npy"
      ]
    },
    {
      "cell_type": "code",
      "metadata": {
        "id": "zLdEZuVWqiqH"
      },
      "source": [
        "currentDir = '/content/drive/MyDrive/Deep Learning/Assignment3-SentimentAnalysis-with-LSTM'\n",
        "wordVectors = np.load(os.path.join(currentDir, 'wordVectors.npy'))\n",
        "wordVectors = np.float32(wordVectors)"
      ],
      "execution_count": 32,
      "outputs": []
    },
    {
      "cell_type": "code",
      "metadata": {
        "id": "9fXytaU4d6H9"
      },
      "source": [
        "wordsList = np.load(os.path.join(currentDir, 'wordsList.npy'))\n",
        "wordsList = wordsList.tolist()"
      ],
      "execution_count": 33,
      "outputs": []
    },
    {
      "cell_type": "markdown",
      "metadata": {
        "id": "3qMafPoleQdc"
      },
      "source": [
        "Load pretrained model"
      ]
    },
    {
      "cell_type": "code",
      "metadata": {
        "id": "n5UozafreP2J"
      },
      "source": [
        "numDimensions = 300\n",
        "maxSeqLength = 10 \n",
        "lstmUnits = 128 \n",
        "\n",
        "model = keras.Sequential([\n",
        "        layers.Embedding(input_dim=19899,output_dim=numDimensions,weights=[wordVectors],input_length=maxSeqLength,trainable=False),\n",
        "        layers.LSTM(lstmUnits,return_sequences=True),\n",
        "        layers.Dropout(0.2),\n",
        "        layers.LSTM(lstmUnits),\n",
        "        layers.Flatten(),\n",
        "        layers.Dense(2,activation='softmax')]\n",
        " )\n",
        "weight_dir = os.path.join(currentDir,'training_1')\n",
        "weight_path = os.path.join(weight_dir, 'weights.0020.hdf5')\n",
        "model.load_weights(weight_path)"
      ],
      "execution_count": 34,
      "outputs": []
    },
    {
      "cell_type": "code",
      "metadata": {
        "id": "g9Csa3Z8u_QL",
        "colab": {
          "base_uri": "https://localhost:8080/"
        },
        "outputId": "bb51537f-f388-40f0-9b10-1dd617a7543b"
      },
      "source": [
        "model.summary()"
      ],
      "execution_count": 35,
      "outputs": [
        {
          "output_type": "stream",
          "name": "stdout",
          "text": [
            "Model: \"sequential_4\"\n",
            "_________________________________________________________________\n",
            " Layer (type)                Output Shape              Param #   \n",
            "=================================================================\n",
            " embedding_4 (Embedding)     (None, 10, 300)           5969700   \n",
            "                                                                 \n",
            " lstm_8 (LSTM)               (None, 10, 128)           219648    \n",
            "                                                                 \n",
            " dropout_4 (Dropout)         (None, 10, 128)           0         \n",
            "                                                                 \n",
            " lstm_9 (LSTM)               (None, 128)               131584    \n",
            "                                                                 \n",
            " flatten_4 (Flatten)         (None, 128)               0         \n",
            "                                                                 \n",
            " dense_4 (Dense)             (None, 2)                 258       \n",
            "                                                                 \n",
            "=================================================================\n",
            "Total params: 6,321,190\n",
            "Trainable params: 351,490\n",
            "Non-trainable params: 5,969,700\n",
            "_________________________________________________________________\n"
          ]
        }
      ]
    },
    {
      "cell_type": "markdown",
      "metadata": {
        "id": "4amd1m-4fIu1"
      },
      "source": [
        "Predict"
      ]
    },
    {
      "cell_type": "code",
      "metadata": {
        "id": "DNW3xA7VfGpz"
      },
      "source": [
        "import re\n",
        "strip_special_chars = re.compile(\"[^\\w0-9 ]+\")\n",
        "\n",
        "def cleanSentences(string):\n",
        "    string = string.lower().replace(\"<br />\", \" \")\n",
        "    return re.sub(strip_special_chars, \"\", string.lower())\n",
        "\n",
        "def Predict_Sentence(sentence,model):\n",
        "   cleaned = cleanSentences(sentence)\n",
        "   words = cleaned.split()\n",
        "   word_vec = np.zeros((1,maxSeqLength))\n",
        "   for i,word in enumerate(words):\n",
        "      if word in wordsList:\n",
        "        word_idx = wordsList.index(word)\n",
        "      else:\n",
        "        word_idx = wordsList.index('UNK')\n",
        "      word_vec[0][i] = word_idx\n",
        "      \n",
        "   result = model.predict(word_vec)\n",
        "   if np.argmax(result[0])==1: print('Positive')\n",
        "   else: print('Negative')"
      ],
      "execution_count": 41,
      "outputs": []
    },
    {
      "cell_type": "markdown",
      "metadata": {
        "id": "WoUcrR8ifPpD"
      },
      "source": [
        "test hàm predict"
      ]
    },
    {
      "cell_type": "code",
      "metadata": {
        "id": "1vkrRagefNWN",
        "colab": {
          "base_uri": "https://localhost:8080/"
        },
        "outputId": "1f593cc1-1804-4973-98d4-726a9c29d242"
      },
      "source": [
        "Predict_Sentence('Múp rụp',model)"
      ],
      "execution_count": 44,
      "outputs": [
        {
          "output_type": "stream",
          "name": "stdout",
          "text": [
            "Positive\n"
          ]
        }
      ]
    }
  ]
}